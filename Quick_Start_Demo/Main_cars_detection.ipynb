{
 "cells": [
  {
   "cell_type": "markdown",
   "metadata": {},
   "source": [
    "# Cars Object Detection Demo\n",
    "Welcome to the cars object detection inference walkthrough! This notebook will walk you step by step through the process of using a pre-trained model to detect cars in an image. \n",
    "\n",
    "Make sure to follow the [installation instructions](https://github.com/tensorflow/models/blob/master/research/object_detection/g3doc/installation.md) before you start."
   ]
  },
  {
   "cell_type": "markdown",
   "metadata": {},
   "source": [
    "## 1. Data Preparation (Option) \n",
    "### (1) Download images from web\n",
    "The train dataset is already in the floder ~/Quick_Start_Demo/labelcar/images/. There are 6 images including CAR_1.jpg, CAR_2.jpg, …, CAR_6.jpg. The trainval.txt file is already in the floder ~/labelcar/annotations/, and its format is \"image_name class_id\" such as \n",
    "\n",
    "CAR_1 1 \n",
    "\n",
    "CAR_2 1\n",
    "\n",
    "...\n",
    "\n",
    "CAR_6 1\n",
    "\n",
    "Also, you can download the whole [cars datasets](https://ai.stanford.edu/~jkrause/cars/car_dataset.html).\n",
    "\n",
    "### (2) Collect images by your camera\n",
    "### (3) Extract images from your videos "
   ]
  },
  {
   "cell_type": "markdown",
   "metadata": {},
   "source": [
    "## 2. Label Images by LabelImg Toolkit\n",
    "Use annotation tool to label images. We use labelImg in this demo. First of all, invoking the labelImg by running the next command line."
   ]
  },
  {
   "cell_type": "code",
   "execution_count": null,
   "metadata": {},
   "outputs": [],
   "source": [
    "!python3 ../Annotation_Tool/labelImg/labelImg.py"
   ]
  },
  {
   "cell_type": "markdown",
   "metadata": {},
   "source": [
    "Step 1: Use the \"Open Dir\", and choose the directory ~/Quick_Start_Demo/labelcar/images/.\n",
    "\n",
    "Step 2: Use the \"Change Save Dir\", and choose the directory ~/Quick_Start_Demo/labelcar/annotations/xmls/.\n",
    "\n",
    "Step 3: Use \"PascalVOC\" format.\n",
    "\n",
    "Step 4: Use \"Edit\">>\"Create\\nRectBox\", \n",
    "![jupyter](./jupyter_images/1.png)\n",
    "\n",
    "Step 5: Draw the car region. Then select the label \"car\", and Use \"Save\" after labeling all the cars in an image.\n",
    "![jupyter](./jupyter_images/2.png)\n",
    "\n",
    "Step 6: Use \"Next Image\", and go back to step4 and step5.\n",
    "\n",
    "Step 7: After label all 6 images, close labelImg."
   ]
  },
  {
   "cell_type": "markdown",
   "metadata": {},
   "source": [
    "## 3. Create TF Records\n",
    "The car_label_map.pbtxt file is already in the floder ~/quick_start_object_detection/object_detection/labelcar/. It has class_id and class_name such as\n",
    "\n",
    "item {\n",
    "\n",
    "  id: 1\n",
    "  \n",
    "  name: 'CAR'\n",
    "\n",
    "}\n",
    "\n",
    "Now use create_sw_tf_record.py to create tensorflow records."
   ]
  },
  {
   "cell_type": "code",
   "execution_count": null,
   "metadata": {
    "scrolled": true
   },
   "outputs": [],
   "source": [
    "!python3 create_tf_record.py --label_map_path=./object_detection/labelcar/car_label_map.pbtxt --data_dir=./labelcar --output_dir=./object_detection/labelcar"
   ]
  },
  {
   "cell_type": "markdown",
   "metadata": {},
   "source": [
    "i## 4. Training  Model\n",
    "### (1) Download a pre-trained model (Option)\n",
    "The pre-trained model ssd_inception_v2_coco.ckpt is already in the floder ~/quick_start_object_detection/Incepion_v2_coco/. \n",
    "\n",
    "You can download other models from [tensorflow object detection model zoo](https://github.com/tensorflow/models/blob/master/research/object_detection/g3doc/detection_model_zoo.md).\n",
    "\n",
    "### (2) Create a configuration file (Option)\n",
    "The configuration file ssd_inception_v2_pets.config is already in the floder ~/quick_start_object_detection/object_detection/labelcar/. You can modify the parameters in this file. The default parameters of the file are \n",
    "\n",
    "num_classes: 1 in line 9\n",
    "\n",
    "fine_tune_checkpoint path in line 153\n",
    "\n",
    "num_steps: 520 in line159\n",
    "\n",
    "input_path in line 172 & 186\n",
    "\n",
    "label_map_path in line 174 & 188\n",
    "\n",
    "NOTE: If you use the other model, you should choose the corresponding [configuration file](https://github.com/tensorflow/models/tree/master/research/object_detection/samples/configs) to your model.\n",
    "\n",
    "### (3) Start training\n",
    "\n",
    "clone_on_cpu=True means training by CPU. Default option.\n"
   ]
  },
  {
   "cell_type": "code",
   "execution_count": null,
   "metadata": {},
   "outputs": [],
   "source": [
    "!python3 train.py --clone_on_cpu=True --logtostderr --train_dir=./object_detection/labelcar --pipeline_config_path=./object_detection/labelcar/ssd_inception_v2_pets.config --label_map_path=./object_detection/labelcar/car_label_map.pbtxt "
   ]
  },
  {
   "cell_type": "markdown",
   "metadata": {},
   "source": [
    "clone_on_cpu=False means training by Nvidia GPU, use this one if there is Nvidia GPU available"
   ]
  },
  {
   "cell_type": "code",
   "execution_count": null,
   "metadata": {},
   "outputs": [],
   "source": [
    "#!python3 train.py --clone_on_cpu=False --logtostderr --train_dir=./object_detection/labelcar --pipeline_config_path=./object_detection/labelcar/ssd_inception_v2_pets.config --label_map_path=./object_detection/labelcar/car_label_map.pbtxt "
   ]
  },
  {
   "cell_type": "markdown",
   "metadata": {},
   "source": [
    "### (4) Visualizing by tensorboard (Option)\n",
    "You can see the loss curve and so on by tensorboard. Open a new command prompt or terminal, run the following command line:"
   ]
  },
  {
   "cell_type": "markdown",
   "metadata": {},
   "source": [
    "cd ~/Quick_Start_Demo/\n",
    "\n",
    "tensorboard --logdir=./object_detection/labelcar"
   ]
  },
  {
   "cell_type": "markdown",
   "metadata": {},
   "source": [
    "Now open a Explorer, and visit http://localhost:6006"
   ]
  },
  {
   "cell_type": "markdown",
   "metadata": {},
   "source": [
    "## 5. Export The Frozen Graph\n",
    "Convert the ckpt model to pb model."
   ]
  },
  {
   "cell_type": "code",
   "execution_count": null,
   "metadata": {},
   "outputs": [],
   "source": [
    "!python3 export_inference_graph.py --trained_checkpoint_prefix ./object_detection/labelcar/model.ckpt-520 --input_type image_tensor --pipeline_config_path ./object_detection/labelcar/ssd_inception_v2_pets.config --output_directory ./car_inference_graph"
   ]
  },
  {
   "cell_type": "markdown",
   "metadata": {},
   "source": [
    "## 6. Test Your Model on Images"
   ]
  },
  {
   "cell_type": "markdown",
   "metadata": {},
   "source": [
    "### Imports"
   ]
  },
  {
   "cell_type": "code",
   "execution_count": null,
   "metadata": {
    "scrolled": true
   },
   "outputs": [],
   "source": [
    "import numpy as np\n",
    "import os\n",
    "import six.moves.urllib as urllib\n",
    "import sys\n",
    "import tarfile\n",
    "import tensorflow as tf\n",
    "import zipfile\n",
    "\n",
    "from collections import defaultdict\n",
    "from io import StringIO\n",
    "from matplotlib import pyplot as plt\n",
    "from PIL import Image\n",
    "\n",
    "# This is needed to display the images.\n",
    "%matplotlib inline\n",
    "\n",
    "# This is needed since the notebook is stored in the object_detection folder.\n",
    "sys.path.append(\"..\")\n",
    "\n",
    "# Object detection imports\n",
    "from object_detection.utils import label_map_util\n",
    "from object_detection.utils import visualization_utils as vis_util"
   ]
  },
  {
   "cell_type": "markdown",
   "metadata": {},
   "source": [
    "### Model preparation "
   ]
  },
  {
   "cell_type": "markdown",
   "metadata": {},
   "source": [
    "#### Variables\n",
    "\n",
    "Any model exported using the `export_inference_graph.py` tool can be loaded here simply by changing `PATH_TO_CKPT` to point to a new .pb file."
   ]
  },
  {
   "cell_type": "code",
   "execution_count": null,
   "metadata": {},
   "outputs": [],
   "source": [
    "# What model to download.\n",
    "MODEL_NAME = 'car_inference_graph'\n",
    "\n",
    "# Path to frozen detection graph. This is the actual model that is used for the object detection.\n",
    "PATH_TO_CKPT = './' + MODEL_NAME + '/frozen_inference_graph.pb'\n",
    "\n",
    "# List of the strings that is used to add correct label for each box.\n",
    "PATH_TO_LABELS = os.path.join('./object_detection/labelcar', 'car_label_map.pbtxt')\n",
    "\n",
    "NUM_CLASSES = 1\n",
    "\n",
    "# Load a (frozen) Tensorflow model into memory.\n",
    "detection_graph = tf.Graph()\n",
    "with detection_graph.as_default():\n",
    "    od_graph_def = tf.GraphDef()\n",
    "    with tf.gfile.GFile(PATH_TO_CKPT, 'rb') as fid:\n",
    "        serialized_graph = fid.read()\n",
    "        od_graph_def.ParseFromString(serialized_graph)\n",
    "        tf.import_graph_def(od_graph_def, name='')\n",
    "\n",
    "# Loading label map\n",
    "label_map = label_map_util.load_labelmap(PATH_TO_LABELS)\n",
    "categories = label_map_util.convert_label_map_to_categories(label_map, max_num_classes=NUM_CLASSES, use_display_name=True)\n",
    "category_index = label_map_util.create_category_index(categories)"
   ]
  },
  {
   "cell_type": "markdown",
   "metadata": {},
   "source": [
    "### Detection in images"
   ]
  },
  {
   "cell_type": "code",
   "execution_count": null,
   "metadata": {
    "scrolled": true
   },
   "outputs": [],
   "source": [
    "def load_image_into_numpy_array(image):\n",
    "    (im_width, im_height) = image.size\n",
    "    return np.array(image.getdata()).reshape(\n",
    "        (im_height, im_width, 3)).astype(np.uint8)\n",
    "\n",
    "# If you want to test the code with your images, just add path to the images to the TEST_IMAGE_PATHS.\n",
    "PATH_TO_TEST_IMAGES_DIR = './labelcar/test_images'\n",
    "TEST_IMAGE_PATHS = [ os.path.join(PATH_TO_TEST_IMAGES_DIR, 'image{}.jpg'.format(i)) for i in range(1, 4) ]\n",
    "\n",
    "# Size, in inches, of the output images.\n",
    "IMAGE_SIZE = (12, 8)\n",
    "\n",
    "#Add below to fix issue with GPU initialization\n",
    "config = tf.ConfigProto()\n",
    "config.gpu_options.allow_growth = True\n",
    "\n",
    "with detection_graph.as_default():\n",
    "    with tf.Session(graph=detection_graph, config=config) as sess:\n",
    "        # Definite input and output Tensors for detection_graph\n",
    "        image_tensor = detection_graph.get_tensor_by_name('image_tensor:0')\n",
    "        # Each box represents a part of the image where a particular object was detected.\n",
    "        detection_boxes = detection_graph.get_tensor_by_name('detection_boxes:0')\n",
    "        # Each score represent how level of confidence for each of the objects.\n",
    "        # Score is shown on the result image, together with the class label.\n",
    "        detection_scores = detection_graph.get_tensor_by_name('detection_scores:0')\n",
    "        detection_classes = detection_graph.get_tensor_by_name('detection_classes:0')\n",
    "        num_detections = detection_graph.get_tensor_by_name('num_detections:0')\n",
    "        for image_path in TEST_IMAGE_PATHS:\n",
    "            image = Image.open(image_path)\n",
    "            # the array based representation of the image will be used later in order to prepare the\n",
    "            # result image with boxes and labels on it.\n",
    "            image_np = load_image_into_numpy_array(image)\n",
    "            # Expand dimensions since the model expects images to have shape: [1, None, None, 3]\n",
    "            image_np_expanded = np.expand_dims(image_np, axis=0)\n",
    "            # Actual detection.\n",
    "            (boxes, scores, classes, num) = sess.run(\n",
    "                [detection_boxes, detection_scores, detection_classes, num_detections],\n",
    "                feed_dict={image_tensor: image_np_expanded})\n",
    "            # Visualization of the results of a detection.\n",
    "            vis_util.visualize_boxes_and_labels_on_image_array(\n",
    "                image_np,\n",
    "                np.squeeze(boxes),\n",
    "                np.squeeze(classes).astype(np.int32),\n",
    "                np.squeeze(scores),\n",
    "                category_index,\n",
    "                use_normalized_coordinates=True,\n",
    "                line_thickness=8)\n",
    "            plt.figure(figsize=IMAGE_SIZE)\n",
    "            plt.imshow(image_np)"
   ]
  },
  {
   "cell_type": "code",
   "execution_count": null,
   "metadata": {},
   "outputs": [],
   "source": []
  }
 ],
 "metadata": {
  "kernelspec": {
   "display_name": "Python 3",
   "language": "python",
   "name": "python3"
  },
  "language_info": {
   "codemirror_mode": {
    "name": "ipython",
    "version": 3
   },
   "file_extension": ".py",
   "mimetype": "text/x-python",
   "name": "python",
   "nbconvert_exporter": "python",
   "pygments_lexer": "ipython3",
   "version": "3.6.9"
  }
 },
 "nbformat": 4,
 "nbformat_minor": 2
}
